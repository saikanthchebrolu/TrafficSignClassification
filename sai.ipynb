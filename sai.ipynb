{
 "cells": [
  {
   "cell_type": "code",
   "execution_count": 1,
   "id": "3ad20343",
   "metadata": {},
   "outputs": [
    {
     "name": "stdout",
     "output_type": "stream",
     "text": [
      "Requirement already satisfied: flask in c:\\users\\sai16\\anaconda3\\lib\\site-packages (1.1.2)\n",
      "Requirement already satisfied: itsdangerous>=0.24 in c:\\users\\sai16\\anaconda3\\lib\\site-packages (from flask) (2.0.1)\n",
      "Requirement already satisfied: Werkzeug>=0.15 in c:\\users\\sai16\\anaconda3\\lib\\site-packages (from flask) (2.0.3)\n",
      "Requirement already satisfied: click>=5.1 in c:\\users\\sai16\\anaconda3\\lib\\site-packages (from flask) (8.0.4)\n",
      "Requirement already satisfied: Jinja2>=2.10.1 in c:\\users\\sai16\\anaconda3\\lib\\site-packages (from flask) (2.11.3)\n",
      "Requirement already satisfied: colorama in c:\\users\\sai16\\anaconda3\\lib\\site-packages (from click>=5.1->flask) (0.4.4)\n",
      "Requirement already satisfied: MarkupSafe>=0.23 in c:\\users\\sai16\\anaconda3\\lib\\site-packages (from Jinja2>=2.10.1->flask) (2.0.1)\n",
      "Note: you may need to restart the kernel to use updated packages.\n"
     ]
    }
   ],
   "source": [
    "pip install flask\n"
   ]
  },
  {
   "cell_type": "code",
   "execution_count": 2,
   "id": "bc623335",
   "metadata": {},
   "outputs": [
    {
     "name": "stdout",
     "output_type": "stream",
     "text": [
      "Collecting Flask-Mail\n",
      "  Downloading Flask-Mail-0.9.1.tar.gz (45 kB)\n",
      "Requirement already satisfied: Flask in c:\\users\\sai16\\anaconda3\\lib\\site-packages (from Flask-Mail) (1.1.2)\n",
      "Collecting blinker\n",
      "  Using cached blinker-1.6.2-py3-none-any.whl (13 kB)\n",
      "Requirement already satisfied: itsdangerous>=0.24 in c:\\users\\sai16\\anaconda3\\lib\\site-packages (from Flask->Flask-Mail) (2.0.1)\n",
      "Requirement already satisfied: click>=5.1 in c:\\users\\sai16\\anaconda3\\lib\\site-packages (from Flask->Flask-Mail) (8.0.4)\n",
      "Requirement already satisfied: Werkzeug>=0.15 in c:\\users\\sai16\\anaconda3\\lib\\site-packages (from Flask->Flask-Mail) (2.0.3)\n",
      "Requirement already satisfied: Jinja2>=2.10.1 in c:\\users\\sai16\\anaconda3\\lib\\site-packages (from Flask->Flask-Mail) (2.11.3)\n",
      "Requirement already satisfied: colorama in c:\\users\\sai16\\anaconda3\\lib\\site-packages (from click>=5.1->Flask->Flask-Mail) (0.4.4)\n",
      "Requirement already satisfied: MarkupSafe>=0.23 in c:\\users\\sai16\\anaconda3\\lib\\site-packages (from Jinja2>=2.10.1->Flask->Flask-Mail) (2.0.1)\n",
      "Building wheels for collected packages: Flask-Mail\n",
      "  Building wheel for Flask-Mail (setup.py): started\n",
      "  Building wheel for Flask-Mail (setup.py): finished with status 'done'\n",
      "  Created wheel for Flask-Mail: filename=Flask_Mail-0.9.1-py3-none-any.whl size=7581 sha256=edc92ebd4d22c1a012b1d863884733cb240b97b186093cd26ba0c76247d87116\n",
      "  Stored in directory: c:\\users\\sai16\\appdata\\local\\pip\\cache\\wheels\\46\\f9\\d1\\7fb1d1ae35210f02223b4502e2724235cffaed49e22df5007f\n",
      "Successfully built Flask-Mail\n",
      "Installing collected packages: blinker, Flask-Mail\n",
      "Successfully installed Flask-Mail-0.9.1 blinker-1.6.2\n",
      "Note: you may need to restart the kernel to use updated packages.\n"
     ]
    }
   ],
   "source": [
    "pip install Flask-Mail"
   ]
  },
  {
   "cell_type": "code",
   "execution_count": null,
   "id": "5a887df2",
   "metadata": {},
   "outputs": [],
   "source": [
    "from flask import *\n",
    "app = Flask(_name_)\n",
    "@app.route('/login')\n",
    "def login():\n",
    "ret"
   ]
  },
  {
   "cell_type": "code",
   "execution_count": null,
   "id": "6aea62af",
   "metadata": {},
   "outputs": [
    {
     "name": "stdout",
     "output_type": "stream",
     "text": [
      " * Serving Flask app \"__main__\" (lazy loading)\n",
      " * Environment: production\n",
      "\u001b[31m   WARNING: This is a development server. Do not use it in a production deployment.\u001b[0m\n",
      "\u001b[2m   Use a production WSGI server instead.\u001b[0m\n",
      " * Debug mode: off\n"
     ]
    },
    {
     "name": "stderr",
     "output_type": "stream",
     "text": [
      " * Running on http://127.0.0.1:5000/ (Press CTRL+C to quit)\n",
      "127.0.0.1 - - [18/Jun/2023 23:06:20] \"GET / HTTP/1.1\" 404 -\n",
      "127.0.0.1 - - [18/Jun/2023 23:06:27] \"GET / HTTP/1.1\" 404 -\n",
      "127.0.0.1 - - [18/Jun/2023 23:06:37] \"GET /student HTTP/1.1\" 200 -\n"
     ]
    }
   ],
   "source": [
    "from flask import Flask, render_template, request\n",
    "\n",
    "app = Flask(__name__)\n",
    "\n",
    "@app.route('/student')\n",
    "def student():\n",
    "    return render_template(\"student.html\")\n",
    "\n",
    "@app.route('/result', methods=['POST', 'GET'])\n",
    "def result():\n",
    "    if request.method == 'POST':\n",
    "        result = request.form\n",
    "        return render_template(\"result.html\", result=result)\n",
    "\n",
    "if __name__ == '__main__':\n",
    "    app.run()\n"
   ]
  },
  {
   "cell_type": "code",
   "execution_count": null,
   "id": "39736e78",
   "metadata": {},
   "outputs": [
    {
     "name": "stdout",
     "output_type": "stream",
     "text": [
      " * Serving Flask app \"__main__\" (lazy loading)\n",
      " * Environment: production\n",
      "\u001b[31m   WARNING: This is a development server. Do not use it in a production deployment.\u001b[0m\n",
      "\u001b[2m   Use a production WSGI server instead.\u001b[0m\n",
      " * Debug mode: off\n"
     ]
    },
    {
     "name": "stderr",
     "output_type": "stream",
     "text": [
      " * Running on http://127.0.0.1:5000/ (Press CTRL+C to quit)\n",
      "127.0.0.1 - - [18/Jun/2023 22:37:05] \"GET / HTTP/1.1\" 200 -\n",
      "127.0.0.1 - - [18/Jun/2023 22:37:12] \"GET /menu HTTP/1.1\" 200 -\n",
      "127.0.0.1 - - [18/Jun/2023 22:57:18] \"GET / HTTP/1.1\" 200 -\n"
     ]
    }
   ],
   "source": [
    "from flask import *\n",
    "app=Flask(__name__)\n",
    "@app.route(\"/about\")\n",
    "def mani():\n",
    "    return \"saikanth\"\n",
    "@app.route(\"/\")\n",
    "def sai():\n",
    "    return render_template(\"ramesh.html\")\n",
    "@app.route(\"/menu\")\n",
    "def ajay():\n",
    "    return render_template(\"suresh.html\")\n",
    "if __name__==\"__main__\":\n",
    "    app.run()\n",
    "    "
   ]
  },
  {
   "cell_type": "code",
   "execution_count": 4,
   "id": "4f328455",
   "metadata": {},
   "outputs": [
    {
     "name": "stdout",
     "output_type": "stream",
     "text": [
      " * Serving Flask app \"__main__\" (lazy loading)\n",
      " * Environment: production\n",
      "\u001b[31m   WARNING: This is a development server. Do not use it in a production deployment.\u001b[0m\n",
      "\u001b[2m   Use a production WSGI server instead.\u001b[0m\n",
      " * Debug mode: on\n"
     ]
    },
    {
     "name": "stderr",
     "output_type": "stream",
     "text": [
      " * Restarting with watchdog (windowsapi)\n"
     ]
    },
    {
     "ename": "SystemExit",
     "evalue": "1",
     "output_type": "error",
     "traceback": [
      "An exception has occurred, use %tb to see the full traceback.\n",
      "\u001b[1;31mSystemExit\u001b[0m\u001b[1;31m:\u001b[0m 1\n"
     ]
    }
   ],
   "source": [
    "from flask import Flask\n",
    "from flask_mail import Mail, Message\n",
    "\n",
    "app = Flask(__name__)\n",
    "mail= Mail(app)\n",
    "\n",
    "app.config['MAIL_SERVER']='smtp.gmail.com'\n",
    "app.config['MAIL_PORT'] = 465\n",
    "app.config['MAIL_USERNAME'] = 'vamsichinni2004@gmail.com'\n",
    "app.config['MAIL_PASSWORD'] = 'chinni9999'\n",
    "app.config['MAIL_USE_TLS'] = False\n",
    "app.config['MAIL_USE_SSL'] = True\n",
    "mail = Mail(app)\n",
    "\n",
    "@app.route(\"/\")\n",
    "def index():\n",
    "   msg = Message('Hello', sender = 'vamsichinni2004@gmail.com', recipients = ['saikanth1607@gmail.com'])\n",
    "   msg.body = \"Hello Flask message sent from Flask-Mail\"\n",
    "   mail.send(msg)\n",
    "   return \"Sent\"\n",
    "\n",
    "if __name__ == '__main__':\n",
    "   app.run(debug = True)\n",
    "\n"
   ]
  },
  {
   "cell_type": "code",
   "execution_count": 1,
   "id": "25fd70bc",
   "metadata": {},
   "outputs": [
    {
     "ename": "ModuleNotFoundError",
     "evalue": "No module named 'flask_mail'",
     "output_type": "error",
     "traceback": [
      "\u001b[1;31m---------------------------------------------------------------------------\u001b[0m",
      "\u001b[1;31mModuleNotFoundError\u001b[0m                       Traceback (most recent call last)",
      "Input \u001b[1;32mIn [1]\u001b[0m, in \u001b[0;36m<cell line: 1>\u001b[1;34m()\u001b[0m\n\u001b[1;32m----> 1\u001b[0m \u001b[38;5;28;01mfrom\u001b[39;00m \u001b[38;5;21;01mflask_mail\u001b[39;00m \u001b[38;5;28;01mimport\u001b[39;00m Mail, Message\n",
      "\u001b[1;31mModuleNotFoundError\u001b[0m: No module named 'flask_mail'"
     ]
    }
   ],
   "source": [
    "pip install F"
   ]
  },
  {
   "cell_type": "code",
   "execution_count": null,
   "id": "1786e012",
   "metadata": {},
   "outputs": [
    {
     "name": "stdout",
     "output_type": "stream",
     "text": [
      " * Serving Flask app \"__main__\" (lazy loading)\n",
      " * Environment: production\n",
      "\u001b[31m   WARNING: This is a development server. Do not use it in a production deployment.\u001b[0m\n",
      "\u001b[2m   Use a production WSGI server instead.\u001b[0m\n",
      " * Debug mode: off\n"
     ]
    },
    {
     "name": "stderr",
     "output_type": "stream",
     "text": [
      " * Running on http://127.0.0.1:5000/ (Press CTRL+C to quit)\n",
      "127.0.0.1 - - [03/May/2023 14:58:29] \"GET / HTTP/1.1\" 404 -\n",
      "127.0.0.1 - - [03/May/2023 14:58:29] \"GET /favicon.ico HTTP/1.1\" 404 -\n",
      "127.0.0.1 - - [03/May/2023 14:58:37] \"GET /hello HTTP/1.1\" 200 -\n"
     ]
    }
   ],
   "source": [
    "from flask import Flask\n",
    "app=Flask(__name__)\n",
    "@app.route(\"/hello\")\n",
    "def hello():\n",
    "    return \"Hello world\"\n",
    "if __name__==\"__main__\":\n",
    "    app.run()"
   ]
  },
  {
   "cell_type": "code",
   "execution_count": null,
   "id": "b4b17748",
   "metadata": {},
   "outputs": [],
   "source": [
    "from flask import *\n",
    "app=Flask(__name__)\n",
    "@app.route('/')\n",
    "def rul():\n",
    "    return render_template(\"xyz.html\")\n",
    "        \n",
    "@app.route('/rule')\n",
    "def rule():\n",
    "     return render_template(\"pqr.html\")\n",
    "       \n",
    "app.run()"
   ]
  },
  {
   "cell_type": "code",
   "execution_count": null,
   "id": "d61b7a33",
   "metadata": {},
   "outputs": [],
   "source": [
    "from flask import *\n",
    "app=Flask(__name__)\n",
    "@app.route(\"/about\")\n",
    "def mani():\n",
    "    return \"saikanth\"\n",
    "@app.route(\"/\")\n",
    "def sai():\n",
    "    return render_template(\"login.html\")\n",
    "@app.route(\"/menu\")\n",
    "def ajay():\n",
    "    return render_template(\"pen.html\")\n",
    "if __name__==\"__main__\":\n",
    "    app.run()\n",
    "    \n",
    "    "
   ]
  },
  {
   "cell_type": "code",
   "execution_count": 1,
   "id": "a99b42ae",
   "metadata": {},
   "outputs": [
    {
     "ename": "SyntaxError",
     "evalue": "invalid syntax (2786732524.py, line 10)",
     "output_type": "error",
     "traceback": [
      "\u001b[1;36m  Input \u001b[1;32mIn [1]\u001b[1;36m\u001b[0m\n\u001b[1;33m    app.run()\u001b[0m\n\u001b[1;37m    ^\u001b[0m\n\u001b[1;31mSyntaxError\u001b[0m\u001b[1;31m:\u001b[0m invalid syntax\n"
     ]
    }
   ],
   "source": [
    "from flask import *\n",
    "app=Flask(__name__)\n",
    "@app.route(\"/about\")\n",
    "def mani():\n",
    "    return \"saikanth\"\n",
    "@app.route(\"/\")\n",
    "def sai():\n",
    "    return render_template(\"login.html\")\n",
    "@app.route(\"/menu.html\")\n",
    "app.run()\n",
    "    "
   ]
  },
  {
   "cell_type": "code",
   "execution_count": null,
   "id": "9f517e62",
   "metadata": {},
   "outputs": [],
   "source": [
    "from flask import Flask, render_template, request \n",
    "import random, copy \n",
    " \n",
    "app = Flask(__name__) \n",
    " \n",
    "original_questions = {  #Format is 'question':[options] \n",
    " 'Taj Mahal':['Agra','New Delhi','Mumbai','Chennai'], \n",
    " 'Great Wall of China':['China','Beijing','Shanghai','Tianjin'], \n",
    " 'Petra':['Ma\\'an Governorate','Amman','Zarqa','Jerash'],  'Machu Picchu':['Cuzco Region','Lima','Piura','Tacna'], \n",
    " 'Egypt Pyramids':['Giza','Suez','Luxor','Tanta'], \n",
    " 'Colosseum':['Rome','Milan','Bari','Bologna'], \n",
    " 'Christ the Redeemer':['Rio de Janeiro','Natal','Olinda','Betim'] } \n",
    " \n",
    "questions = copy.deepcopy(original_questions) \n",
    " \n",
    "def shuffle(q): \n",
    " \"\"\" \n",
    " This function is for shuffling   the dictionary elements. \n",
    " \"\"\" \n",
    " selected_keys = []  i = 0  while i < len(q): \n",
    "  current_selection = random.choice(q.keys())   if current_selection not in selected_keys:    selected_keys.append(current_selection)    i = i+1 \n",
    " return selected_keys \n",
    " \n",
    "@app.route('/') def quiz():  questions_shuffled = shuffle(questions)  for i in questions.keys(): \n",
    "  random.shuffle(questions[i]) \n",
    " return render_template('main.html', q = questions_shuffled, o = questions) \n",
    " \n",
    " \n",
    "@app.route('/quiz', methods=['POST']) def quiz_answers(): \n",
    " correct = 0  for i in questions.keys():   answered = request.form[i]   if original_questions[i][0] == answered:    correct = correct+1 \n",
    " return '<h1>Correct Answers: <u>'+str(correct)+'</u></h1>' \n",
    " \n",
    "if __name__ == '__main__': \n",
    " app.run(debug=True) \n"
   ]
  }
 ],
 "metadata": {
  "kernelspec": {
   "display_name": "Python 3 (ipykernel)",
   "language": "python",
   "name": "python3"
  },
  "language_info": {
   "codemirror_mode": {
    "name": "ipython",
    "version": 3
   },
   "file_extension": ".py",
   "mimetype": "text/x-python",
   "name": "python",
   "nbconvert_exporter": "python",
   "pygments_lexer": "ipython3",
   "version": "3.11.5"
  }
 },
 "nbformat": 4,
 "nbformat_minor": 5
}
