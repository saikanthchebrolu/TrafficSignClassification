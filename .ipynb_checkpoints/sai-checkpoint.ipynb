{
 "cells": [
  {
   "cell_type": "code",
   "execution_count": 1,
   "id": "3ad20343",
   "metadata": {},
   "outputs": [
    {
     "name": "stdout",
     "output_type": "stream",
     "text": [
      "Requirement already satisfied: flask in c:\\users\\sai16\\anaconda3\\lib\\site-packages (1.1.2)\n",
      "Requirement already satisfied: itsdangerous>=0.24 in c:\\users\\sai16\\anaconda3\\lib\\site-packages (from flask) (2.0.1)\n",
      "Requirement already satisfied: Werkzeug>=0.15 in c:\\users\\sai16\\anaconda3\\lib\\site-packages (from flask) (2.0.3)\n",
      "Requirement already satisfied: click>=5.1 in c:\\users\\sai16\\anaconda3\\lib\\site-packages (from flask) (8.0.4)\n",
      "Requirement already satisfied: Jinja2>=2.10.1 in c:\\users\\sai16\\anaconda3\\lib\\site-packages (from flask) (2.11.3)\n",
      "Requirement already satisfied: colorama in c:\\users\\sai16\\anaconda3\\lib\\site-packages (from click>=5.1->flask) (0.4.4)\n",
      "Requirement already satisfied: MarkupSafe>=0.23 in c:\\users\\sai16\\anaconda3\\lib\\site-packages (from Jinja2>=2.10.1->flask) (2.0.1)\n",
      "Note: you may need to restart the kernel to use updated packages.\n"
     ]
    }
   ],
   "source": [
    "pip install flask\n"
   ]
  },
  {
   "cell_type": "code",
   "execution_count": null,
   "id": "92f5205d",
   "metadata": {},
   "outputs": [],
   "source": []
  },
  {
   "cell_type": "code",
   "execution_count": null,
   "id": "39736e78",
   "metadata": {},
   "outputs": [
    {
     "name": "stdout",
     "output_type": "stream",
     "text": [
      " * Serving Flask app \"__main__\" (lazy loading)\n",
      " * Environment: production\n",
      "\u001b[31m   WARNING: This is a development server. Do not use it in a production deployment.\u001b[0m\n",
      "\u001b[2m   Use a production WSGI server instead.\u001b[0m\n",
      " * Debug mode: off\n"
     ]
    },
    {
     "name": "stderr",
     "output_type": "stream",
     "text": [
      " * Running on http://127.0.0.1:5000/ (Press CTRL+C to quit)\n",
      "127.0.0.1 - - [18/Jun/2023 22:00:20] \"GET / HTTP/1.1\" 200 -\n",
      "127.0.0.1 - - [18/Jun/2023 22:00:20] \"GET /favicon.ico HTTP/1.1\" 404 -\n",
      "127.0.0.1 - - [18/Jun/2023 22:00:34] \"GET /menu HTTP/1.1\" 200 -\n",
      "127.0.0.1 - - [18/Jun/2023 22:09:40] \"GET / HTTP/1.1\" 200 -\n",
      "127.0.0.1 - - [18/Jun/2023 22:09:53] \"GET /menu HTTP/1.1\" 200 -\n",
      "127.0.0.1 - - [18/Jun/2023 22:10:05] \"GET / HTTP/1.1\" 200 -\n",
      "127.0.0.1 - - [18/Jun/2023 22:10:18] \"GET /menu HTTP/1.1\" 200 -\n"
     ]
    }
   ],
   "source": [
    "from flask import *\n",
    "app=Flask(__name__)\n",
    "@app.route(\"/about\")\n",
    "def mani():\n",
    "    return \"saikanth\"\n",
    "@app.route(\"/\")\n",
    "def sai():\n",
    "    return render_template(\"ramesh.html\")\n",
    "@app.route(\"/menu\")\n",
    "def ajay():\n",
    "    return render_template(\"suresh.html\")\n",
    "if __name__==\"__main__\":\n",
    "    app.run()\n",
    "    "
   ]
  },
  {
   "cell_type": "code",
   "execution_count": 1,
   "id": "25fd70bc",
   "metadata": {},
   "outputs": [
    {
     "ename": "ModuleNotFoundError",
     "evalue": "No module named 'flask_mail'",
     "output_type": "error",
     "traceback": [
      "\u001b[1;31m---------------------------------------------------------------------------\u001b[0m",
      "\u001b[1;31mModuleNotFoundError\u001b[0m                       Traceback (most recent call last)",
      "Input \u001b[1;32mIn [1]\u001b[0m, in \u001b[0;36m<cell line: 1>\u001b[1;34m()\u001b[0m\n\u001b[1;32m----> 1\u001b[0m \u001b[38;5;28;01mfrom\u001b[39;00m \u001b[38;5;21;01mflask_mail\u001b[39;00m \u001b[38;5;28;01mimport\u001b[39;00m Mail, Message\n",
      "\u001b[1;31mModuleNotFoundError\u001b[0m: No module named 'flask_mail'"
     ]
    }
   ],
   "source": [
    "pip install F"
   ]
  },
  {
   "cell_type": "code",
   "execution_count": null,
   "id": "1786e012",
   "metadata": {},
   "outputs": [
    {
     "name": "stdout",
     "output_type": "stream",
     "text": [
      " * Serving Flask app \"__main__\" (lazy loading)\n",
      " * Environment: production\n",
      "\u001b[31m   WARNING: This is a development server. Do not use it in a production deployment.\u001b[0m\n",
      "\u001b[2m   Use a production WSGI server instead.\u001b[0m\n",
      " * Debug mode: off\n"
     ]
    },
    {
     "name": "stderr",
     "output_type": "stream",
     "text": [
      " * Running on http://127.0.0.1:5000/ (Press CTRL+C to quit)\n",
      "127.0.0.1 - - [03/May/2023 14:58:29] \"GET / HTTP/1.1\" 404 -\n",
      "127.0.0.1 - - [03/May/2023 14:58:29] \"GET /favicon.ico HTTP/1.1\" 404 -\n",
      "127.0.0.1 - - [03/May/2023 14:58:37] \"GET /hello HTTP/1.1\" 200 -\n"
     ]
    }
   ],
   "source": [
    "from flask import Flask\n",
    "app=Flask(__name__)\n",
    "@app.route(\"/hello\")\n",
    "def hello():\n",
    "    return \"Hello world\"\n",
    "if __name__==\"__main__\":\n",
    "    app.run()"
   ]
  },
  {
   "cell_type": "code",
   "execution_count": null,
   "id": "b4b17748",
   "metadata": {},
   "outputs": [
    {
     "name": "stdout",
     "output_type": "stream",
     "text": [
      " * Serving Flask app \"__main__\" (lazy loading)\n",
      " * Environment: production\n",
      "\u001b[31m   WARNING: This is a development server. Do not use it in a production deployment.\u001b[0m\n",
      "\u001b[2m   Use a production WSGI server instead.\u001b[0m\n",
      " * Debug mode: off\n"
     ]
    },
    {
     "name": "stderr",
     "output_type": "stream",
     "text": [
      " * Running on http://127.0.0.1:5000/ (Press CTRL+C to quit)\n",
      "127.0.0.1 - - [05/May/2023 12:12:09] \"GET / HTTP/1.1\" 200 -\n",
      "127.0.0.1 - - [05/May/2023 12:12:09] \"GET /favicon.ico HTTP/1.1\" 404 -\n"
     ]
    }
   ],
   "source": [
    "from flask import *\n",
    "app=Flask(__name__)\n",
    "@app.route('/')\n",
    "def rul():\n",
    "    return render_template(\"xyz.html\")\n",
    "        \n",
    "@app.route('/rule')\n",
    "def rule():\n",
    "     return render_template(\"pqr.html\")\n",
    "       \n",
    "app.run()"
   ]
  },
  {
   "cell_type": "code",
   "execution_count": null,
   "id": "d61b7a33",
   "metadata": {},
   "outputs": [
    {
     "name": "stdout",
     "output_type": "stream",
     "text": [
      " * Serving Flask app \"__main__\" (lazy loading)\n",
      " * Environment: production\n",
      "\u001b[31m   WARNING: This is a development server. Do not use it in a production deployment.\u001b[0m\n",
      "\u001b[2m   Use a production WSGI server instead.\u001b[0m\n",
      " * Debug mode: off\n"
     ]
    },
    {
     "name": "stderr",
     "output_type": "stream",
     "text": [
      " * Running on http://127.0.0.1:5000/ (Press CTRL+C to quit)\n",
      "127.0.0.1 - - [30/May/2023 21:24:18] \"GET / HTTP/1.1\" 200 -\n",
      "127.0.0.1 - - [30/May/2023 21:24:27] \"GET /menu HTTP/1.1\" 200 -\n"
     ]
    }
   ],
   "source": [
    "from flask import *\n",
    "app=Flask(__name__)\n",
    "@app.route(\"/about\")\n",
    "def mani():\n",
    "    return \"saikanth\"\n",
    "@app.route(\"/\")\n",
    "def sai():\n",
    "    return render_template(\"login.html\")\n",
    "@app.route(\"/menu\")\n",
    "def ajay():\n",
    "    return render_template(\"pen.html\")\n",
    "if __name__==\"__main__\":\n",
    "    app.run()\n",
    "    \n",
    "    "
   ]
  },
  {
   "cell_type": "code",
   "execution_count": 1,
   "id": "a99b42ae",
   "metadata": {},
   "outputs": [
    {
     "ename": "SyntaxError",
     "evalue": "invalid syntax (2786732524.py, line 10)",
     "output_type": "error",
     "traceback": [
      "\u001b[1;36m  Input \u001b[1;32mIn [1]\u001b[1;36m\u001b[0m\n\u001b[1;33m    app.run()\u001b[0m\n\u001b[1;37m    ^\u001b[0m\n\u001b[1;31mSyntaxError\u001b[0m\u001b[1;31m:\u001b[0m invalid syntax\n"
     ]
    }
   ],
   "source": [
    "from flask import *\n",
    "app=Flask(__name__)\n",
    "@app.route(\"/about\")\n",
    "def mani():\n",
    "    return \"saikanth\"\n",
    "@app.route(\"/\")\n",
    "def sai():\n",
    "    return render_template(\"login.html\")\n",
    "@app.route(\"/menu.html\")\n",
    "app.run()\n",
    "    "
   ]
  },
  {
   "cell_type": "code",
   "execution_count": null,
   "id": "9f517e62",
   "metadata": {},
   "outputs": [],
   "source": [
    "from flask import Flask, render_template, request \n",
    "import random, copy \n",
    " \n",
    "app = Flask(__name__) \n",
    " \n",
    "original_questions = {  #Format is 'question':[options] \n",
    " 'Taj Mahal':['Agra','New Delhi','Mumbai','Chennai'], \n",
    " 'Great Wall of China':['China','Beijing','Shanghai','Tianjin'], \n",
    " 'Petra':['Ma\\'an Governorate','Amman','Zarqa','Jerash'],  'Machu Picchu':['Cuzco Region','Lima','Piura','Tacna'], \n",
    " 'Egypt Pyramids':['Giza','Suez','Luxor','Tanta'], \n",
    " 'Colosseum':['Rome','Milan','Bari','Bologna'], \n",
    " 'Christ the Redeemer':['Rio de Janeiro','Natal','Olinda','Betim'] } \n",
    " \n",
    "questions = copy.deepcopy(original_questions) \n",
    " \n",
    "def shuffle(q): \n",
    " \"\"\" \n",
    " This function is for shuffling   the dictionary elements. \n",
    " \"\"\" \n",
    " selected_keys = []  i = 0  while i < len(q): \n",
    "  current_selection = random.choice(q.keys())   if current_selection not in selected_keys:    selected_keys.append(current_selection)    i = i+1 \n",
    " return selected_keys \n",
    " \n",
    "@app.route('/') def quiz():  questions_shuffled = shuffle(questions)  for i in questions.keys(): \n",
    "  random.shuffle(questions[i]) \n",
    " return render_template('main.html', q = questions_shuffled, o = questions) \n",
    " \n",
    " \n",
    "@app.route('/quiz', methods=['POST']) def quiz_answers(): \n",
    " correct = 0  for i in questions.keys():   answered = request.form[i]   if original_questions[i][0] == answered:    correct = correct+1 \n",
    " return '<h1>Correct Answers: <u>'+str(correct)+'</u></h1>' \n",
    " \n",
    "if __name__ == '__main__': \n",
    " app.run(debug=True) \n"
   ]
  }
 ],
 "metadata": {
  "kernelspec": {
   "display_name": "Python 3 (ipykernel)",
   "language": "python",
   "name": "python3"
  },
  "language_info": {
   "codemirror_mode": {
    "name": "ipython",
    "version": 3
   },
   "file_extension": ".py",
   "mimetype": "text/x-python",
   "name": "python",
   "nbconvert_exporter": "python",
   "pygments_lexer": "ipython3",
   "version": "3.9.12"
  }
 },
 "nbformat": 4,
 "nbformat_minor": 5
}
